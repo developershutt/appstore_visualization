{
 "cells": [
  {
   "cell_type": "code",
   "execution_count": 8,
   "metadata": {},
   "outputs": [],
   "source": [
    "import pandas as pd #Data manupulation lib\n",
    "from matplotlib import pyplot as plt #data-visualization\n",
    "import seaborn as sb"
   ]
  },
  {
   "cell_type": "code",
   "execution_count": 2,
   "metadata": {},
   "outputs": [],
   "source": [
    "df=pd.read_csv(\"/home/manish/Desktop/dataset/AppleStore.csv\")"
   ]
  },
  {
   "cell_type": "code",
   "execution_count": 3,
   "metadata": {},
   "outputs": [
    {
     "data": {
      "text/html": [
       "<div>\n",
       "<style scoped>\n",
       "    .dataframe tbody tr th:only-of-type {\n",
       "        vertical-align: middle;\n",
       "    }\n",
       "\n",
       "    .dataframe tbody tr th {\n",
       "        vertical-align: top;\n",
       "    }\n",
       "\n",
       "    .dataframe thead th {\n",
       "        text-align: right;\n",
       "    }\n",
       "</style>\n",
       "<table border=\"1\" class=\"dataframe\">\n",
       "  <thead>\n",
       "    <tr style=\"text-align: right;\">\n",
       "      <th></th>\n",
       "      <th>Unnamed: 0</th>\n",
       "      <th>id</th>\n",
       "      <th>track_name</th>\n",
       "      <th>size_bytes</th>\n",
       "      <th>currency</th>\n",
       "      <th>price</th>\n",
       "      <th>rating_count_tot</th>\n",
       "      <th>rating_count_ver</th>\n",
       "      <th>user_rating</th>\n",
       "      <th>user_rating_ver</th>\n",
       "      <th>ver</th>\n",
       "      <th>cont_rating</th>\n",
       "      <th>prime_genre</th>\n",
       "      <th>sup_devices.num</th>\n",
       "      <th>ipadSc_urls.num</th>\n",
       "      <th>lang.num</th>\n",
       "      <th>vpp_lic</th>\n",
       "    </tr>\n",
       "  </thead>\n",
       "  <tbody>\n",
       "    <tr>\n",
       "      <th>0</th>\n",
       "      <td>1</td>\n",
       "      <td>281656475</td>\n",
       "      <td>PAC-MAN Premium</td>\n",
       "      <td>100788224</td>\n",
       "      <td>USD</td>\n",
       "      <td>3.99</td>\n",
       "      <td>21292</td>\n",
       "      <td>26</td>\n",
       "      <td>4.0</td>\n",
       "      <td>4.5</td>\n",
       "      <td>6.3.5</td>\n",
       "      <td>4+</td>\n",
       "      <td>Games</td>\n",
       "      <td>38</td>\n",
       "      <td>5</td>\n",
       "      <td>10</td>\n",
       "      <td>1</td>\n",
       "    </tr>\n",
       "    <tr>\n",
       "      <th>1</th>\n",
       "      <td>2</td>\n",
       "      <td>281796108</td>\n",
       "      <td>Evernote - stay organized</td>\n",
       "      <td>158578688</td>\n",
       "      <td>USD</td>\n",
       "      <td>0.00</td>\n",
       "      <td>161065</td>\n",
       "      <td>26</td>\n",
       "      <td>4.0</td>\n",
       "      <td>3.5</td>\n",
       "      <td>8.2.2</td>\n",
       "      <td>4+</td>\n",
       "      <td>Productivity</td>\n",
       "      <td>37</td>\n",
       "      <td>5</td>\n",
       "      <td>23</td>\n",
       "      <td>1</td>\n",
       "    </tr>\n",
       "    <tr>\n",
       "      <th>2</th>\n",
       "      <td>3</td>\n",
       "      <td>281940292</td>\n",
       "      <td>WeatherBug - Local Weather, Radar, Maps, Alerts</td>\n",
       "      <td>100524032</td>\n",
       "      <td>USD</td>\n",
       "      <td>0.00</td>\n",
       "      <td>188583</td>\n",
       "      <td>2822</td>\n",
       "      <td>3.5</td>\n",
       "      <td>4.5</td>\n",
       "      <td>5.0.0</td>\n",
       "      <td>4+</td>\n",
       "      <td>Weather</td>\n",
       "      <td>37</td>\n",
       "      <td>5</td>\n",
       "      <td>3</td>\n",
       "      <td>1</td>\n",
       "    </tr>\n",
       "    <tr>\n",
       "      <th>3</th>\n",
       "      <td>4</td>\n",
       "      <td>282614216</td>\n",
       "      <td>eBay: Best App to Buy, Sell, Save! Online Shop...</td>\n",
       "      <td>128512000</td>\n",
       "      <td>USD</td>\n",
       "      <td>0.00</td>\n",
       "      <td>262241</td>\n",
       "      <td>649</td>\n",
       "      <td>4.0</td>\n",
       "      <td>4.5</td>\n",
       "      <td>5.10.0</td>\n",
       "      <td>12+</td>\n",
       "      <td>Shopping</td>\n",
       "      <td>37</td>\n",
       "      <td>5</td>\n",
       "      <td>9</td>\n",
       "      <td>1</td>\n",
       "    </tr>\n",
       "    <tr>\n",
       "      <th>4</th>\n",
       "      <td>5</td>\n",
       "      <td>282935706</td>\n",
       "      <td>Bible</td>\n",
       "      <td>92774400</td>\n",
       "      <td>USD</td>\n",
       "      <td>0.00</td>\n",
       "      <td>985920</td>\n",
       "      <td>5320</td>\n",
       "      <td>4.5</td>\n",
       "      <td>5.0</td>\n",
       "      <td>7.5.1</td>\n",
       "      <td>4+</td>\n",
       "      <td>Reference</td>\n",
       "      <td>37</td>\n",
       "      <td>5</td>\n",
       "      <td>45</td>\n",
       "      <td>1</td>\n",
       "    </tr>\n",
       "  </tbody>\n",
       "</table>\n",
       "</div>"
      ],
      "text/plain": [
       "   Unnamed: 0         id                                         track_name  \\\n",
       "0           1  281656475                                    PAC-MAN Premium   \n",
       "1           2  281796108                          Evernote - stay organized   \n",
       "2           3  281940292    WeatherBug - Local Weather, Radar, Maps, Alerts   \n",
       "3           4  282614216  eBay: Best App to Buy, Sell, Save! Online Shop...   \n",
       "4           5  282935706                                              Bible   \n",
       "\n",
       "   size_bytes currency  price  rating_count_tot  rating_count_ver  \\\n",
       "0   100788224      USD   3.99             21292                26   \n",
       "1   158578688      USD   0.00            161065                26   \n",
       "2   100524032      USD   0.00            188583              2822   \n",
       "3   128512000      USD   0.00            262241               649   \n",
       "4    92774400      USD   0.00            985920              5320   \n",
       "\n",
       "   user_rating  user_rating_ver     ver cont_rating   prime_genre  \\\n",
       "0          4.0              4.5   6.3.5          4+         Games   \n",
       "1          4.0              3.5   8.2.2          4+  Productivity   \n",
       "2          3.5              4.5   5.0.0          4+       Weather   \n",
       "3          4.0              4.5  5.10.0         12+      Shopping   \n",
       "4          4.5              5.0   7.5.1          4+     Reference   \n",
       "\n",
       "   sup_devices.num  ipadSc_urls.num  lang.num  vpp_lic  \n",
       "0               38                5        10        1  \n",
       "1               37                5        23        1  \n",
       "2               37                5         3        1  \n",
       "3               37                5         9        1  \n",
       "4               37                5        45        1  "
      ]
     },
     "execution_count": 3,
     "metadata": {},
     "output_type": "execute_result"
    }
   ],
   "source": [
    "df.head() #to see first 5 rows of dataset"
   ]
  },
  {
   "cell_type": "code",
   "execution_count": 4,
   "metadata": {},
   "outputs": [
    {
     "name": "stdout",
     "output_type": "stream",
     "text": [
      "<class 'pandas.core.frame.DataFrame'>\n",
      "RangeIndex: 7197 entries, 0 to 7196\n",
      "Data columns (total 17 columns):\n",
      "Unnamed: 0          7197 non-null int64\n",
      "id                  7197 non-null int64\n",
      "track_name          7197 non-null object\n",
      "size_bytes          7197 non-null int64\n",
      "currency            7197 non-null object\n",
      "price               7197 non-null float64\n",
      "rating_count_tot    7197 non-null int64\n",
      "rating_count_ver    7197 non-null int64\n",
      "user_rating         7197 non-null float64\n",
      "user_rating_ver     7197 non-null float64\n",
      "ver                 7197 non-null object\n",
      "cont_rating         7197 non-null object\n",
      "prime_genre         7197 non-null object\n",
      "sup_devices.num     7197 non-null int64\n",
      "ipadSc_urls.num     7197 non-null int64\n",
      "lang.num            7197 non-null int64\n",
      "vpp_lic             7197 non-null int64\n",
      "dtypes: float64(3), int64(9), object(5)\n",
      "memory usage: 955.9+ KB\n"
     ]
    }
   ],
   "source": [
    "df.info() #detailed information about what dataset contains"
   ]
  },
  {
   "cell_type": "code",
   "execution_count": 7,
   "metadata": {},
   "outputs": [
    {
     "data": {
      "text/html": [
       "<div>\n",
       "<style scoped>\n",
       "    .dataframe tbody tr th:only-of-type {\n",
       "        vertical-align: middle;\n",
       "    }\n",
       "\n",
       "    .dataframe tbody tr th {\n",
       "        vertical-align: top;\n",
       "    }\n",
       "\n",
       "    .dataframe thead th {\n",
       "        text-align: right;\n",
       "    }\n",
       "</style>\n",
       "<table border=\"1\" class=\"dataframe\">\n",
       "  <thead>\n",
       "    <tr style=\"text-align: right;\">\n",
       "      <th></th>\n",
       "      <th>track_name</th>\n",
       "      <th>prime_genre</th>\n",
       "      <th>user_rating</th>\n",
       "      <th>rating_count_tot</th>\n",
       "      <th>price</th>\n",
       "    </tr>\n",
       "  </thead>\n",
       "  <tbody>\n",
       "    <tr>\n",
       "      <th>1104</th>\n",
       "      <td>Head Soccer</td>\n",
       "      <td>Games</td>\n",
       "      <td>5.0</td>\n",
       "      <td>481564</td>\n",
       "      <td>0.00</td>\n",
       "    </tr>\n",
       "    <tr>\n",
       "      <th>302</th>\n",
       "      <td>Plants vs. Zombies</td>\n",
       "      <td>Games</td>\n",
       "      <td>5.0</td>\n",
       "      <td>426463</td>\n",
       "      <td>0.99</td>\n",
       "    </tr>\n",
       "    <tr>\n",
       "      <th>3086</th>\n",
       "      <td>Sniper 3D Assassin: Shoot to Kill Gun Game</td>\n",
       "      <td>Games</td>\n",
       "      <td>5.0</td>\n",
       "      <td>386521</td>\n",
       "      <td>0.00</td>\n",
       "    </tr>\n",
       "    <tr>\n",
       "      <th>2177</th>\n",
       "      <td>Geometry Dash Lite</td>\n",
       "      <td>Games</td>\n",
       "      <td>5.0</td>\n",
       "      <td>370370</td>\n",
       "      <td>0.00</td>\n",
       "    </tr>\n",
       "    <tr>\n",
       "      <th>498</th>\n",
       "      <td>Infinity Blade</td>\n",
       "      <td>Games</td>\n",
       "      <td>5.0</td>\n",
       "      <td>326482</td>\n",
       "      <td>0.99</td>\n",
       "    </tr>\n",
       "  </tbody>\n",
       "</table>\n",
       "</div>"
      ],
      "text/plain": [
       "                                      track_name prime_genre  user_rating  \\\n",
       "1104                                 Head Soccer       Games          5.0   \n",
       "302                           Plants vs. Zombies       Games          5.0   \n",
       "3086  Sniper 3D Assassin: Shoot to Kill Gun Game       Games          5.0   \n",
       "2177                          Geometry Dash Lite       Games          5.0   \n",
       "498                               Infinity Blade       Games          5.0   \n",
       "\n",
       "      rating_count_tot  price  \n",
       "1104            481564   0.00  \n",
       "302             426463   0.99  \n",
       "3086            386521   0.00  \n",
       "2177            370370   0.00  \n",
       "498             326482   0.99  "
      ]
     },
     "execution_count": 7,
     "metadata": {},
     "output_type": "execute_result"
    }
   ],
   "source": [
    "rating=df.loc[:,[\"track_name\",\"prime_genre\",\"user_rating\",\"rating_count_tot\",\"price\"]]\n",
    "rating=rating.sort_values(by=[\"user_rating\",\"rating_count_tot\"],ascending=False)\n",
    "rating.head()"
   ]
  },
  {
   "cell_type": "code",
   "execution_count": 12,
   "metadata": {},
   "outputs": [
    {
     "data": {
      "text/plain": [
       "<matplotlib.axes._subplots.AxesSubplot at 0x7f3244214ef0>"
      ]
     },
     "execution_count": 12,
     "metadata": {},
     "output_type": "execute_result"
    },
    {
     "data": {
      "image/png": "[encoded data removed]",
      "text/plain": [
       "<Figure size 720x360 with 1 Axes>"
      ]
     },
     "metadata": {},
     "output_type": "display_data"
    }
   ],
   "source": [
    "#Plotting\n",
    "\n",
    "plt.figure(figsize=(10,5))\n",
    "sb.countplot(y=rating[\"prime_genre\"])"
   ]
  },
  {
   "cell_type": "code",
   "execution_count": 13,
   "metadata": {},
   "outputs": [
    {
     "data": {
      "text/plain": [
       "<matplotlib.axes._subplots.AxesSubplot at 0x7f32440d1240>"
      ]
     },
     "execution_count": 13,
     "metadata": {},
     "output_type": "execute_result"
    },
    {
     "data": {
      "image/png": "[encoded data removed]",
      "text/plain": [
       "<Figure size 432x288 with 1 Axes>"
      ]
     },
     "metadata": {},
     "output_type": "display_data"
    }
   ],
   "source": [
    "sb.countplot(rating[\"price\"]==0)"
   ]
  },
  {
   "cell_type": "code",
   "execution_count": 14,
   "metadata": {},
   "outputs": [
    {
     "data": {
      "text/plain": [
       "<matplotlib.axes._subplots.AxesSubplot at 0x7f3244025400>"
      ]
     },
     "execution_count": 14,
     "metadata": {},
     "output_type": "execute_result"
    },
    {
     "data": {
      "image/png": "[encoded data removed]",
      "text/plain": [
       "<Figure size 720x288 with 1 Axes>"
      ]
     },
     "metadata": {},
     "output_type": "display_data"
    }
   ],
   "source": [
    "plt.figure(figsize=(10,4))\n",
    "sb.countplot(rating[\"user_rating\"])"
   ]
  },
  {
   "cell_type": "code",
   "execution_count": 15,
   "metadata": {},
   "outputs": [
    {
     "data": {
      "text/plain": [
       "12892.907183548701"
      ]
     },
     "execution_count": 15,
     "metadata": {},
     "output_type": "execute_result"
    }
   ],
   "source": [
    "rating[\"rating_count_tot\"].mean()"
   ]
  },
  {
   "cell_type": "code",
   "execution_count": 18,
   "metadata": {},
   "outputs": [
    {
     "data": {
      "text/plain": [
       "<matplotlib.axes._subplots.AxesSubplot at 0x7f3243f65a90>"
      ]
     },
     "execution_count": 18,
     "metadata": {},
     "output_type": "execute_result"
    },
    {
     "data": {
      "image/png": "[encoded data removed]",
      "text/plain": [
       "<Figure size 720x288 with 1 Axes>"
      ]
     },
     "metadata": {},
     "output_type": "display_data"
    }
   ],
   "source": [
    "rating=rating[rating[\"rating_count_tot\"]>rating[\"rating_count_tot\"].mean()]\n",
    "\n",
    "plt.figure(figsize=(10,4))\n",
    "sb.countplot(rating[\"user_rating\"])"
   ]
  },
  {
   "cell_type": "code",
   "execution_count": 21,
   "metadata": {},
   "outputs": [],
   "source": [
    "trending=df.loc[:,[\"track_name\",\"prime_genre\",\"user_rating_ver\",\"rating_count_ver\",\"price\"]]"
   ]
  },
  {
   "cell_type": "code",
   "execution_count": 23,
   "metadata": {},
   "outputs": [],
   "source": [
    "trending=trending[trending[\"rating_count_ver\"]>trending[\"rating_count_ver\"].mean()]"
   ]
  },
  {
   "cell_type": "code",
   "execution_count": 24,
   "metadata": {},
   "outputs": [
    {
     "data": {
      "text/plain": [
       "<matplotlib.axes._subplots.AxesSubplot at 0x7f3243c53748>"
      ]
     },
     "execution_count": 24,
     "metadata": {},
     "output_type": "execute_result"
    },
    {
     "data": {
      "image/png": "[encoded data removed]",
      "text/plain": [
       "<Figure size 720x288 with 1 Axes>"
      ]
     },
     "metadata": {},
     "output_type": "display_data"
    }
   ],
   "source": [
    "plt.figure(figsize=(10,4))\n",
    "sb.countplot(trending[\"user_rating_ver\"])"
   ]
  },
  {
   "cell_type": "code",
   "execution_count": 25,
   "metadata": {},
   "outputs": [],
   "source": [
    "trending=trending.sort_values(by=[\"user_rating_ver\",\"rating_count_ver\"],ascending=False)"
   ]
  },
  {
   "cell_type": "code",
   "execution_count": 27,
   "metadata": {},
   "outputs": [
    {
     "data": {
      "text/html": [
       "<div>\n",
       "<style scoped>\n",
       "    .dataframe tbody tr th:only-of-type {\n",
       "        vertical-align: middle;\n",
       "    }\n",
       "\n",
       "    .dataframe tbody tr th {\n",
       "        vertical-align: top;\n",
       "    }\n",
       "\n",
       "    .dataframe thead th {\n",
       "        text-align: right;\n",
       "    }\n",
       "</style>\n",
       "<table border=\"1\" class=\"dataframe\">\n",
       "  <thead>\n",
       "    <tr style=\"text-align: right;\">\n",
       "      <th></th>\n",
       "      <th>track_name</th>\n",
       "      <th>prime_genre</th>\n",
       "      <th>user_rating_ver</th>\n",
       "      <th>rating_count_ver</th>\n",
       "      <th>price</th>\n",
       "    </tr>\n",
       "  </thead>\n",
       "  <tbody>\n",
       "    <tr>\n",
       "      <th>498</th>\n",
       "      <td>Infinity Blade</td>\n",
       "      <td>Games</td>\n",
       "      <td>5.0</td>\n",
       "      <td>177050</td>\n",
       "      <td>0.99</td>\n",
       "    </tr>\n",
       "    <tr>\n",
       "      <th>545</th>\n",
       "      <td>Zappos: shop shoes &amp; clothes, fast free shipping</td>\n",
       "      <td>Shopping</td>\n",
       "      <td>5.0</td>\n",
       "      <td>39452</td>\n",
       "      <td>0.00</td>\n",
       "    </tr>\n",
       "    <tr>\n",
       "      <th>479</th>\n",
       "      <td>shopkick - Shopping Rewards &amp; Discounts</td>\n",
       "      <td>Shopping</td>\n",
       "      <td>5.0</td>\n",
       "      <td>29363</td>\n",
       "      <td>0.00</td>\n",
       "    </tr>\n",
       "    <tr>\n",
       "      <th>3616</th>\n",
       "      <td>Browser and File Manager for Documents</td>\n",
       "      <td>Utilities</td>\n",
       "      <td>5.0</td>\n",
       "      <td>27213</td>\n",
       "      <td>0.00</td>\n",
       "    </tr>\n",
       "    <tr>\n",
       "      <th>2989</th>\n",
       "      <td>The Room Three</td>\n",
       "      <td>Games</td>\n",
       "      <td>5.0</td>\n",
       "      <td>21769</td>\n",
       "      <td>4.99</td>\n",
       "    </tr>\n",
       "    <tr>\n",
       "      <th>6688</th>\n",
       "      <td>Tricky Test 2™: Genius Brain?</td>\n",
       "      <td>Games</td>\n",
       "      <td>5.0</td>\n",
       "      <td>19952</td>\n",
       "      <td>0.00</td>\n",
       "    </tr>\n",
       "    <tr>\n",
       "      <th>384</th>\n",
       "      <td>▻Sudoku</td>\n",
       "      <td>Games</td>\n",
       "      <td>5.0</td>\n",
       "      <td>17119</td>\n",
       "      <td>0.00</td>\n",
       "    </tr>\n",
       "    <tr>\n",
       "      <th>3067</th>\n",
       "      <td>AdVenture Capitalist</td>\n",
       "      <td>Games</td>\n",
       "      <td>5.0</td>\n",
       "      <td>11269</td>\n",
       "      <td>0.00</td>\n",
       "    </tr>\n",
       "    <tr>\n",
       "      <th>3643</th>\n",
       "      <td>Block Craft 3D: Building Simulator Game For Free</td>\n",
       "      <td>Games</td>\n",
       "      <td>5.0</td>\n",
       "      <td>11001</td>\n",
       "      <td>0.00</td>\n",
       "    </tr>\n",
       "    <tr>\n",
       "      <th>3086</th>\n",
       "      <td>Sniper 3D Assassin: Shoot to Kill Gun Game</td>\n",
       "      <td>Games</td>\n",
       "      <td>5.0</td>\n",
       "      <td>10332</td>\n",
       "      <td>0.00</td>\n",
       "    </tr>\n",
       "  </tbody>\n",
       "</table>\n",
       "</div>"
      ],
      "text/plain": [
       "                                            track_name prime_genre  \\\n",
       "498                                     Infinity Blade       Games   \n",
       "545   Zappos: shop shoes & clothes, fast free shipping    Shopping   \n",
       "479            shopkick - Shopping Rewards & Discounts    Shopping   \n",
       "3616            Browser and File Manager for Documents   Utilities   \n",
       "2989                                    The Room Three       Games   \n",
       "6688                     Tricky Test 2™: Genius Brain?       Games   \n",
       "384                                            ▻Sudoku       Games   \n",
       "3067                              AdVenture Capitalist       Games   \n",
       "3643  Block Craft 3D: Building Simulator Game For Free       Games   \n",
       "3086        Sniper 3D Assassin: Shoot to Kill Gun Game       Games   \n",
       "\n",
       "      user_rating_ver  rating_count_ver  price  \n",
       "498               5.0            177050   0.99  \n",
       "545               5.0             39452   0.00  \n",
       "479               5.0             29363   0.00  \n",
       "3616              5.0             27213   0.00  \n",
       "2989              5.0             21769   4.99  \n",
       "6688              5.0             19952   0.00  \n",
       "384               5.0             17119   0.00  \n",
       "3067              5.0             11269   0.00  \n",
       "3643              5.0             11001   0.00  \n",
       "3086              5.0             10332   0.00  "
      ]
     },
     "execution_count": 27,
     "metadata": {},
     "output_type": "execute_result"
    }
   ],
   "source": [
    "trending.head(10)"
   ]
  },
  {
   "cell_type": "code",
   "execution_count": 28,
   "metadata": {},
   "outputs": [
    {
     "data": {
      "text/html": [
       "<div>\n",
       "<style scoped>\n",
       "    .dataframe tbody tr th:only-of-type {\n",
       "        vertical-align: middle;\n",
       "    }\n",
       "\n",
       "    .dataframe tbody tr th {\n",
       "        vertical-align: top;\n",
       "    }\n",
       "\n",
       "    .dataframe thead th {\n",
       "        text-align: right;\n",
       "    }\n",
       "</style>\n",
       "<table border=\"1\" class=\"dataframe\">\n",
       "  <thead>\n",
       "    <tr style=\"text-align: right;\">\n",
       "      <th></th>\n",
       "      <th>track_name</th>\n",
       "      <th>prime_genre</th>\n",
       "      <th>user_rating_ver</th>\n",
       "      <th>rating_count_ver</th>\n",
       "      <th>price</th>\n",
       "    </tr>\n",
       "  </thead>\n",
       "  <tbody>\n",
       "    <tr>\n",
       "      <th>6688</th>\n",
       "      <td>Tricky Test 2™: Genius Brain?</td>\n",
       "      <td>Games</td>\n",
       "      <td>5.0</td>\n",
       "      <td>19952</td>\n",
       "      <td>0.0</td>\n",
       "    </tr>\n",
       "    <tr>\n",
       "      <th>384</th>\n",
       "      <td>▻Sudoku</td>\n",
       "      <td>Games</td>\n",
       "      <td>5.0</td>\n",
       "      <td>17119</td>\n",
       "      <td>0.0</td>\n",
       "    </tr>\n",
       "    <tr>\n",
       "      <th>3067</th>\n",
       "      <td>AdVenture Capitalist</td>\n",
       "      <td>Games</td>\n",
       "      <td>5.0</td>\n",
       "      <td>11269</td>\n",
       "      <td>0.0</td>\n",
       "    </tr>\n",
       "    <tr>\n",
       "      <th>3643</th>\n",
       "      <td>Block Craft 3D: Building Simulator Game For Free</td>\n",
       "      <td>Games</td>\n",
       "      <td>5.0</td>\n",
       "      <td>11001</td>\n",
       "      <td>0.0</td>\n",
       "    </tr>\n",
       "    <tr>\n",
       "      <th>3086</th>\n",
       "      <td>Sniper 3D Assassin: Shoot to Kill Gun Game</td>\n",
       "      <td>Games</td>\n",
       "      <td>5.0</td>\n",
       "      <td>10332</td>\n",
       "      <td>0.0</td>\n",
       "    </tr>\n",
       "    <tr>\n",
       "      <th>3180</th>\n",
       "      <td>Tap Titans</td>\n",
       "      <td>Games</td>\n",
       "      <td>5.0</td>\n",
       "      <td>8763</td>\n",
       "      <td>0.0</td>\n",
       "    </tr>\n",
       "    <tr>\n",
       "      <th>1104</th>\n",
       "      <td>Head Soccer</td>\n",
       "      <td>Games</td>\n",
       "      <td>5.0</td>\n",
       "      <td>8518</td>\n",
       "      <td>0.0</td>\n",
       "    </tr>\n",
       "    <tr>\n",
       "      <th>3784</th>\n",
       "      <td>Egg, Inc.</td>\n",
       "      <td>Games</td>\n",
       "      <td>5.0</td>\n",
       "      <td>8442</td>\n",
       "      <td>0.0</td>\n",
       "    </tr>\n",
       "    <tr>\n",
       "      <th>6663</th>\n",
       "      <td>Super Cat Tales</td>\n",
       "      <td>Games</td>\n",
       "      <td>5.0</td>\n",
       "      <td>7421</td>\n",
       "      <td>0.0</td>\n",
       "    </tr>\n",
       "    <tr>\n",
       "      <th>4969</th>\n",
       "      <td>Good Knight Story</td>\n",
       "      <td>Games</td>\n",
       "      <td>5.0</td>\n",
       "      <td>6282</td>\n",
       "      <td>0.0</td>\n",
       "    </tr>\n",
       "  </tbody>\n",
       "</table>\n",
       "</div>"
      ],
      "text/plain": [
       "                                            track_name prime_genre  \\\n",
       "6688                     Tricky Test 2™: Genius Brain?       Games   \n",
       "384                                            ▻Sudoku       Games   \n",
       "3067                              AdVenture Capitalist       Games   \n",
       "3643  Block Craft 3D: Building Simulator Game For Free       Games   \n",
       "3086        Sniper 3D Assassin: Shoot to Kill Gun Game       Games   \n",
       "3180                                        Tap Titans       Games   \n",
       "1104                                       Head Soccer       Games   \n",
       "3784                                         Egg, Inc.       Games   \n",
       "6663                                   Super Cat Tales       Games   \n",
       "4969                                 Good Knight Story       Games   \n",
       "\n",
       "      user_rating_ver  rating_count_ver  price  \n",
       "6688              5.0             19952    0.0  \n",
       "384               5.0             17119    0.0  \n",
       "3067              5.0             11269    0.0  \n",
       "3643              5.0             11001    0.0  \n",
       "3086              5.0             10332    0.0  \n",
       "3180              5.0              8763    0.0  \n",
       "1104              5.0              8518    0.0  \n",
       "3784              5.0              8442    0.0  \n",
       "6663              5.0              7421    0.0  \n",
       "4969              5.0              6282    0.0  "
      ]
     },
     "execution_count": 28,
     "metadata": {},
     "output_type": "execute_result"
    }
   ],
   "source": [
    "#Top trending free games\n",
    "top_free=trending[(trending[\"prime_genre\"]==\"Games\") & (trending[\"price\"]==0)]\n",
    "top_free.head(10)"
   ]
  },
  {
   "cell_type": "code",
   "execution_count": 29,
   "metadata": {},
   "outputs": [
    {
     "data": {
      "text/html": [
       "<div>\n",
       "<style scoped>\n",
       "    .dataframe tbody tr th:only-of-type {\n",
       "        vertical-align: middle;\n",
       "    }\n",
       "\n",
       "    .dataframe tbody tr th {\n",
       "        vertical-align: top;\n",
       "    }\n",
       "\n",
       "    .dataframe thead th {\n",
       "        text-align: right;\n",
       "    }\n",
       "</style>\n",
       "<table border=\"1\" class=\"dataframe\">\n",
       "  <thead>\n",
       "    <tr style=\"text-align: right;\">\n",
       "      <th></th>\n",
       "      <th>track_name</th>\n",
       "      <th>prime_genre</th>\n",
       "      <th>user_rating_ver</th>\n",
       "      <th>rating_count_ver</th>\n",
       "      <th>price</th>\n",
       "    </tr>\n",
       "  </thead>\n",
       "  <tbody>\n",
       "    <tr>\n",
       "      <th>498</th>\n",
       "      <td>Infinity Blade</td>\n",
       "      <td>Games</td>\n",
       "      <td>5.0</td>\n",
       "      <td>177050</td>\n",
       "      <td>0.99</td>\n",
       "    </tr>\n",
       "    <tr>\n",
       "      <th>2989</th>\n",
       "      <td>The Room Three</td>\n",
       "      <td>Games</td>\n",
       "      <td>5.0</td>\n",
       "      <td>21769</td>\n",
       "      <td>4.99</td>\n",
       "    </tr>\n",
       "    <tr>\n",
       "      <th>4263</th>\n",
       "      <td>Super Sharp</td>\n",
       "      <td>Games</td>\n",
       "      <td>5.0</td>\n",
       "      <td>7776</td>\n",
       "      <td>1.99</td>\n",
       "    </tr>\n",
       "    <tr>\n",
       "      <th>6761</th>\n",
       "      <td>Zip—Zap</td>\n",
       "      <td>Games</td>\n",
       "      <td>5.0</td>\n",
       "      <td>3307</td>\n",
       "      <td>1.99</td>\n",
       "    </tr>\n",
       "    <tr>\n",
       "      <th>605</th>\n",
       "      <td>Dungeon Raid</td>\n",
       "      <td>Games</td>\n",
       "      <td>5.0</td>\n",
       "      <td>2927</td>\n",
       "      <td>0.99</td>\n",
       "    </tr>\n",
       "    <tr>\n",
       "      <th>2064</th>\n",
       "      <td>The Room Two</td>\n",
       "      <td>Games</td>\n",
       "      <td>5.0</td>\n",
       "      <td>2858</td>\n",
       "      <td>1.99</td>\n",
       "    </tr>\n",
       "    <tr>\n",
       "      <th>2280</th>\n",
       "      <td>A Dark Room</td>\n",
       "      <td>Games</td>\n",
       "      <td>5.0</td>\n",
       "      <td>2749</td>\n",
       "      <td>0.99</td>\n",
       "    </tr>\n",
       "    <tr>\n",
       "      <th>668</th>\n",
       "      <td>Legendary Wars</td>\n",
       "      <td>Games</td>\n",
       "      <td>5.0</td>\n",
       "      <td>2253</td>\n",
       "      <td>0.99</td>\n",
       "    </tr>\n",
       "    <tr>\n",
       "      <th>2233</th>\n",
       "      <td>Optical Inquisitor 17+</td>\n",
       "      <td>Games</td>\n",
       "      <td>5.0</td>\n",
       "      <td>1922</td>\n",
       "      <td>0.99</td>\n",
       "    </tr>\n",
       "    <tr>\n",
       "      <th>530</th>\n",
       "      <td>Spider Solitaire by MobilityWare</td>\n",
       "      <td>Games</td>\n",
       "      <td>5.0</td>\n",
       "      <td>1862</td>\n",
       "      <td>4.99</td>\n",
       "    </tr>\n",
       "  </tbody>\n",
       "</table>\n",
       "</div>"
      ],
      "text/plain": [
       "                            track_name prime_genre  user_rating_ver  \\\n",
       "498                     Infinity Blade       Games              5.0   \n",
       "2989                    The Room Three       Games              5.0   \n",
       "4263                       Super Sharp       Games              5.0   \n",
       "6761                           Zip—Zap       Games              5.0   \n",
       "605                       Dungeon Raid       Games              5.0   \n",
       "2064                      The Room Two       Games              5.0   \n",
       "2280                       A Dark Room       Games              5.0   \n",
       "668                     Legendary Wars       Games              5.0   \n",
       "2233            Optical Inquisitor 17+       Games              5.0   \n",
       "530   Spider Solitaire by MobilityWare       Games              5.0   \n",
       "\n",
       "      rating_count_ver  price  \n",
       "498             177050   0.99  \n",
       "2989             21769   4.99  \n",
       "4263              7776   1.99  \n",
       "6761              3307   1.99  \n",
       "605               2927   0.99  \n",
       "2064              2858   1.99  \n",
       "2280              2749   0.99  \n",
       "668               2253   0.99  \n",
       "2233              1922   0.99  \n",
       "530               1862   4.99  "
      ]
     },
     "execution_count": 29,
     "metadata": {},
     "output_type": "execute_result"
    }
   ],
   "source": [
    "#Top treding paid games\n",
    "top_paid=trending[(trending[\"prime_genre\"]==\"Games\") & (trending[\"price\"]!=0)]\n",
    "top_paid.head(10)"
   ]
  },
  {
   "cell_type": "code",
   "execution_count": null,
   "metadata": {},
   "outputs": [],
   "source": []
  }
 ],
 "metadata": {
  "kernelspec": {
   "display_name": "Python 3",
   "language": "python",
   "name": "python3"
  },
  "language_info": {
   "codemirror_mode": {
    "name": "ipython",
    "version": 3
   },
   "file_extension": ".py",
   "mimetype": "text/x-python",
   "name": "python",
   "nbconvert_exporter": "python",
   "pygments_lexer": "ipython3",
   "version": "3.6.5"
  }
 },
 "nbformat": 4,
 "nbformat_minor": 2
}
